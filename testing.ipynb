{
 "cells": [
  {
   "cell_type": "code",
   "execution_count": 1,
   "metadata": {},
   "outputs": [
    {
     "name": "stdout",
     "output_type": "stream",
     "text": [
      "     rank            player position  age team  games  starts  mins_played  \\\n",
      "0       1  Precious Achiuwa        C   23  TOR     55      12         1140   \n",
      "1       2      Steven Adams        C   29  MEM     42      42         1133   \n",
      "2       3       Bam Adebayo        C   25  MIA     75      75         2598   \n",
      "3       4      Ochai Agbaji       SG   22  UTA     59      22         1209   \n",
      "4       5      Santi Aldama       PF   22  MEM     77      20         1682   \n",
      "..    ...               ...      ...  ...  ...    ...     ...          ...   \n",
      "674   535    Thaddeus Young       PF   34  TOR     54       9          795   \n",
      "675   536        Trae Young       PG   24  ATL     73      73         2541   \n",
      "676   537    Omer Yurtseven        C   24  MIA      9       0           83   \n",
      "677   538       Cody Zeller        C   30  MIA     15       2          217   \n",
      "678   539       Ivica Zubac        C   25  LAC     76      76         2170   \n",
      "\n",
      "      FG   FGA  ...  ORB  DRB  TRB  AST  STL  BLK  TOV  fouls  points  \\\n",
      "0    196   404  ...  100  228  328   50   31   30   59    102     508   \n",
      "1    157   263  ...  214  271  485   97   36   46   79     98     361   \n",
      "2    602  1114  ...  184  504  688  240   88   61  187    208    1529   \n",
      "3    165   386  ...   43   78  121   67   16   15   41     99     467   \n",
      "4    247   525  ...   85  286  371   97   45   48   60    143     696   \n",
      "..   ...   ...  ...  ...  ...  ...  ...  ...  ...  ...    ...     ...   \n",
      "674  108   198  ...   71   95  166   75   54    5   42     88     240   \n",
      "675  597  1390  ...   56  161  217  741   80    9  300    104    1914   \n",
      "676   16    27  ...    8   15   23    2    2    2    4     16      40   \n",
      "677   37    59  ...   25   39   64   10    3    4   14     33      98   \n",
      "678  326   514  ...  236  520  756   77   29   98  117    219     818   \n",
      "\n",
      "     Player-additional  \n",
      "0            achiupr01  \n",
      "1            adamsst01  \n",
      "2            adebaba01  \n",
      "3            agbajoc01  \n",
      "4            aldamsa01  \n",
      "..                 ...  \n",
      "674          youngth01  \n",
      "675          youngtr01  \n",
      "676          yurtsom01  \n",
      "677          zelleco01  \n",
      "678          zubaciv01  \n",
      "\n",
      "[679 rows x 31 columns]\n"
     ]
    }
   ],
   "source": [
    "import pandas as pd\n",
    "\n",
    "df = pd.read_csv('22:23_player_stats.csv')\n",
    "print(df)"
   ]
  }
 ],
 "metadata": {
  "kernelspec": {
   "display_name": "Python 3.8.9 64-bit",
   "language": "python",
   "name": "python3"
  },
  "language_info": {
   "codemirror_mode": {
    "name": "ipython",
    "version": 3
   },
   "file_extension": ".py",
   "mimetype": "text/x-python",
   "name": "python",
   "nbconvert_exporter": "python",
   "pygments_lexer": "ipython3",
   "version": "3.8.9"
  },
  "orig_nbformat": 4,
  "vscode": {
   "interpreter": {
    "hash": "31f2aee4e71d21fbe5cf8b01ff0e069b9275f58929596ceb00d14d90e3e16cd6"
   }
  }
 },
 "nbformat": 4,
 "nbformat_minor": 2
}
